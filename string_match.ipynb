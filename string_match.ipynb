{
 "cells": [
  {
   "cell_type": "markdown",
   "id": "3fac407b",
   "metadata": {},
   "source": [
    "# Warmup-2 > string_match"
   ]
  },
  {
   "cell_type": "markdown",
   "id": "cc947034",
   "metadata": {},
   "source": [
    "Given 2 strings, a and b, return the number of the positions where they contain the same length 2 substring. So \"xxcaazz\" and \"xxbaaz\" yields 3, since the \"xx\", \"aa\", and \"az\" substrings appear in the same place in both strings.\n",
    "\n",
    "\n",
    "string_match('xxcaazz', 'xxbaaz') → 3\n",
    "string_match('abc', 'abc') → 2\n",
    "string_match('abc', 'axc') → 0"
   ]
  },
  {
   "cell_type": "code",
   "execution_count": 1,
   "id": "a596f7d6",
   "metadata": {},
   "outputs": [],
   "source": [
    "def string_match(a, b):\n",
    "    count = 0\n",
    "    n=0\n",
    "    \n",
    "    if len(a) == 0 or len(b) == 0:\n",
    "        return 0\n",
    "    else:\n",
    "      if len(a) < len(b):\n",
    "          for n in range(len(a)-1):\n",
    "              if a[n:n+2] == b[n:n+2]:\n",
    "                  count += 1\n",
    "      else:\n",
    "          for n in range(len(b)-1):\n",
    "              if a[n:n+2] == b[n:n+2]:\n",
    "                  count += 1\n",
    "      return count"
   ]
  }
 ],
 "metadata": {
  "kernelspec": {
   "display_name": "Python 3 (ipykernel)",
   "language": "python",
   "name": "python3"
  },
  "language_info": {
   "codemirror_mode": {
    "name": "ipython",
    "version": 3
   },
   "file_extension": ".py",
   "mimetype": "text/x-python",
   "name": "python",
   "nbconvert_exporter": "python",
   "pygments_lexer": "ipython3",
   "version": "3.9.12"
  }
 },
 "nbformat": 4,
 "nbformat_minor": 5
}
